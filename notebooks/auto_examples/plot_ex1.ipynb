{
  "cells": [
    {
      "cell_type": "code",
      "execution_count": null,
      "metadata": {
        "collapsed": false
      },
      "outputs": [],
      "source": [
        "%matplotlib inline"
      ]
    },
    {
      "cell_type": "markdown",
      "metadata": {},
      "source": [
        "\nIntroductory example - Plotting sin\n===================================\n\nThis is a general example demonstrating a Matplotlib plot output, embedded\nrST, the use of math notation and cross-linking to other examples. It would be\nuseful to compare with the\noutput below.\n\n\\begin{align}x \\rightarrow \\sin(x)\\end{align}\n\nHere the function $\\sin$ is evaluated at each point the variable\n$x$ is defined.\n"
      ]
    },
    {
      "cell_type": "code",
      "execution_count": null,
      "metadata": {
        "collapsed": false
      },
      "outputs": [],
      "source": [
        "import numpy as np\nimport matplotlib.pyplot as plt\n\nx = np.linspace(0, 2 * np.pi, 100)\ny = np.sin(x)\n\nplt.plot(x, y)\nplt.xlabel('$x$')\nplt.ylabel('$\\sin(x)$')\n# To avoid matplotlib text output\nplt.show()"
      ]
    },
    {
      "cell_type": "markdown",
      "metadata": {},
      "source": [
        "To include embedded rST, use a line of >= 20 ``#``'s or ``#%%`` between your\nrST and your. This separates your example\ninto distinct text and code blocks. You can continue writing code below the\nembedded rST text block:\n\n"
      ]
    },
    {
      "cell_type": "code",
      "execution_count": null,
      "metadata": {
        "collapsed": false
      },
      "outputs": [],
      "source": [
        "print('This example shows a sin plot!')"
      ]
    },
    {
      "cell_type": "code",
      "execution_count": null,
      "metadata": {
        "collapsed": false
      },
      "outputs": [],
      "source": [
        "from py_qs_example.mymodule import ExampleClass, example_function, less_important_function\nec = ExampleClass(5)\nec"
      ]
    },
    {
      "cell_type": "code",
      "execution_count": null,
      "metadata": {
        "collapsed": false
      },
      "outputs": [],
      "source": [
        "output = example_function(ec, '_test')\noutput"
      ]
    },
    {
      "cell_type": "markdown",
      "metadata": {},
      "source": [
        "LaTeX syntax in the text blocks does not require backslashes to be escaped:\n\n\\begin{align}\\sin\\end{align}\n\nCross referencing\n^^^^^^^^^^^^^^^^^\n\nYou can refer to an example from any part of the documentation,\nincluding from other examples. Sphinx-Gallery automatically creates reference\nlabels for each example. The label consists of the ``.py`` file name,\nprefixed with ``sphx_glr_`` and the name of the\nfolder(s) the example is in. In this case, the example we want to\ncross-reference is in ``auto_examples`` (the ``gallery_dirs``; see\n"
      ]
    }
  ],
  "metadata": {
    "kernelspec": {
      "display_name": "Python 3",
      "language": "python",
      "name": "python3"
    },
    "language_info": {
      "codemirror_mode": {
        "name": "ipython",
        "version": 3
      },
      "file_extension": ".py",
      "mimetype": "text/x-python",
      "name": "python",
      "nbconvert_exporter": "python",
      "pygments_lexer": "ipython3",
      "version": "3.7.6"
    }
  },
  "nbformat": 4,
  "nbformat_minor": 0
}